{
 "cells": [
  {
   "cell_type": "markdown",
   "id": "a8ba906a-d199-4d03-91db-588fe996f23a",
   "metadata": {},
   "source": [
    "## EXCEPTION HANDLING ASSIGNMENT 2 "
   ]
  },
  {
   "cell_type": "markdown",
   "id": "a359617a-3a3d-43f3-91fc-788b449d5021",
   "metadata": {},
   "source": [
    "Q1. Explain why we have to use the Exception class while creating a Custom Exception.\n",
    "Note: Here Exception class refers to the base class for all the exceptions."
   ]
  },
  {
   "cell_type": "code",
   "execution_count": 1,
   "id": "6381a962-e6f8-40d3-95cc-3f33e44b14fd",
   "metadata": {},
   "outputs": [],
   "source": [
    "#ANSWER 1"
   ]
  },
  {
   "cell_type": "markdown",
   "id": "c45c1243-fc1a-4aca-a6c0-f855c3c5b846",
   "metadata": {},
   "source": [
    "In Python, all built-in exceptions are derived from the Exception class. When we create a custom exception, we usually want it to behave like a built-in exception, with similar properties and methods. Therefore, we typically inherit from the Exception class to create our custom exception class.\n",
    "\n",
    "By inheriting from the Exception class, our custom exception class will have access to all the properties and methods of the Exception class, such as args (the arguments passed to the exception), __str__ (the string representation of the exception), and __repr__ (the string representation used for debugging).\n",
    "\n",
    "Additionally, using the Exception class as the base class for our custom exception class makes it easier for other developers to understand how our exception class fits into the Python exception hierarchy. If we were to create a custom exception class that did not inherit from Exception, it might be less clear how our exception class relates to the built-in exceptions and how it should be used.\n",
    "\n",
    "Overall, using the Exception class as the base class for our custom exception class helps ensure that our custom exception behaves correctly, is easy to understand, and integrates well with the rest of the Python language."
   ]
  },
  {
   "cell_type": "markdown",
   "id": "6e31ba73-cfbd-4690-837e-f1cf8f96a9d2",
   "metadata": {},
   "source": [
    "Q2. Write a python program to print Python Exception Hierarchy."
   ]
  },
  {
   "cell_type": "code",
   "execution_count": 2,
   "id": "9321b855-67e1-4341-95e2-fb9f30febe0f",
   "metadata": {},
   "outputs": [],
   "source": [
    "#ANSWER 2"
   ]
  },
  {
   "cell_type": "code",
   "execution_count": 8,
   "id": "62c3e383-fff7-4e5b-be16-43b6193f5514",
   "metadata": {},
   "outputs": [
    {
     "name": "stdout",
     "output_type": "stream",
     "text": [
      "ArithmeticError\n",
      "AssertionError\n",
      "AttributeError\n",
      "BaseException\n",
      "BlockingIOError\n",
      "BrokenPipeError\n",
      "BufferError\n",
      "BytesWarning\n",
      "ChildProcessError\n",
      "ConnectionAbortedError\n",
      "ConnectionError\n",
      "ConnectionRefusedError\n",
      "ConnectionResetError\n",
      "DeprecationWarning\n",
      "EOFError\n",
      "EncodingWarning\n",
      "EnvironmentError\n",
      "Exception\n",
      "FileExistsError\n",
      "FileNotFoundError\n",
      "FloatingPointError\n",
      "FutureWarning\n",
      "GeneratorExit\n",
      "IOError\n",
      "ImportError\n",
      "ImportWarning\n",
      "IndentationError\n",
      "IndexError\n",
      "InterruptedError\n",
      "IsADirectoryError\n",
      "KeyError\n",
      "KeyboardInterrupt\n",
      "LookupError\n",
      "MemoryError\n",
      "ModuleNotFoundError\n",
      "NameError\n",
      "NotADirectoryError\n",
      "NotImplementedError\n",
      "OSError\n",
      "OverflowError\n",
      "PendingDeprecationWarning\n",
      "PermissionError\n",
      "ProcessLookupError\n",
      "RecursionError\n",
      "ReferenceError\n",
      "ResourceWarning\n",
      "RuntimeError\n",
      "RuntimeWarning\n",
      "StopAsyncIteration\n",
      "StopIteration\n",
      "SyntaxError\n",
      "SyntaxWarning\n",
      "SystemError\n",
      "SystemExit\n",
      "TabError\n",
      "TimeoutError\n",
      "TypeError\n",
      "UnboundLocalError\n",
      "UnicodeDecodeError\n",
      "UnicodeEncodeError\n",
      "UnicodeError\n",
      "UnicodeTranslateError\n",
      "UnicodeWarning\n",
      "UserWarning\n",
      "ValueError\n",
      "Warning\n",
      "ZeroDivisionError\n"
     ]
    }
   ],
   "source": [
    "# iterate through the built-in exception classes and print their names\n",
    "for exception in dir(__builtins__):\n",
    "    if isinstance(eval(exception), type) and issubclass(eval(exception), BaseException):\n",
    "        print(exception)"
   ]
  },
  {
   "cell_type": "markdown",
   "id": "fab4a37d-b012-4ce2-b677-9e20b36c64c1",
   "metadata": {},
   "source": [
    "Q3. What errors are defined in the ArithmeticError class? Explain any two with an example."
   ]
  },
  {
   "cell_type": "code",
   "execution_count": 3,
   "id": "5f31c02d-3e2b-41a3-b54d-9165671e439d",
   "metadata": {},
   "outputs": [],
   "source": [
    "#ASNWER 3"
   ]
  },
  {
   "cell_type": "markdown",
   "id": "93f20ba4-72a7-43a6-8510-bb3b0f197262",
   "metadata": {},
   "source": [
    "The ArithmeticError class in Python defines exceptions that occur during arithmetic operations. It is a base class for more specific arithmetic exception classes, such as ZeroDivisionError and OverflowError.\n",
    "\n",
    "Here are two examples of errors defined in the ArithmeticError class:\n",
    "\n",
    "1. FloatingPointError: This exception is raised when a floating-point operation fails. For example, dividing a non-zero number by zero or computing the square root of a negative number can result in a FloatingPointError. Here's an example:"
   ]
  },
  {
   "cell_type": "code",
   "execution_count": 15,
   "id": "e72f8440-0ca9-4717-a437-1379b6394889",
   "metadata": {},
   "outputs": [
    {
     "ename": "ValueError",
     "evalue": "math domain error",
     "output_type": "error",
     "traceback": [
      "\u001b[0;31m---------------------------------------------------------------------------\u001b[0m",
      "\u001b[0;31mValueError\u001b[0m                                Traceback (most recent call last)",
      "Cell \u001b[0;32mIn[15], line 4\u001b[0m\n\u001b[1;32m      1\u001b[0m \u001b[38;5;28;01mimport\u001b[39;00m \u001b[38;5;21;01mmath\u001b[39;00m\n\u001b[1;32m      3\u001b[0m \u001b[38;5;28;01mtry\u001b[39;00m:\n\u001b[0;32m----> 4\u001b[0m     x \u001b[38;5;241m=\u001b[39m \u001b[43mmath\u001b[49m\u001b[38;5;241;43m.\u001b[39;49m\u001b[43msqrt\u001b[49m\u001b[43m(\u001b[49m\u001b[38;5;241;43m-\u001b[39;49m\u001b[38;5;241;43m1\u001b[39;49m\u001b[43m)\u001b[49m\n\u001b[1;32m      5\u001b[0m \u001b[38;5;28;01mexcept\u001b[39;00m \u001b[38;5;167;01mFloatingPointError\u001b[39;00m \u001b[38;5;28;01mas\u001b[39;00m e:\n\u001b[1;32m      6\u001b[0m     \u001b[38;5;28mprint\u001b[39m(\u001b[38;5;124mf\u001b[39m\u001b[38;5;124m\"\u001b[39m\u001b[38;5;124mFloatingPointError: \u001b[39m\u001b[38;5;132;01m{\u001b[39;00me\u001b[38;5;132;01m}\u001b[39;00m\u001b[38;5;124m\"\u001b[39m)\n",
      "\u001b[0;31mValueError\u001b[0m: math domain error"
     ]
    }
   ],
   "source": [
    "import math\n",
    "\n",
    "try:\n",
    "    x = math.sqrt(-1)\n",
    "except FloatingPointError as e:\n",
    "    print(f\"FloatingPointError: {e}\")\n"
   ]
  },
  {
   "cell_type": "markdown",
   "id": "920a85e5-cf94-4645-8963-4f4ad35b0da8",
   "metadata": {},
   "source": [
    "2. OverflowError: This exception is raised when the result of an arithmetic operation exceeds the maximum representable value. For example, adding two large numbers or multiplying a large number by itself can result in an OverflowError. Here's an example:"
   ]
  },
  {
   "cell_type": "code",
   "execution_count": 2,
   "id": "71a55fd3-e751-4449-8ec4-2598784f9bc4",
   "metadata": {},
   "outputs": [],
   "source": [
    "try:\n",
    "    x = 10 ** 10000\n",
    "except OverflowError as e:\n",
    "    print(f\"OverflowError: {e}\")\n"
   ]
  },
  {
   "cell_type": "markdown",
   "id": "3a70e0f4-cd41-4307-aa8b-51179f3183d0",
   "metadata": {},
   "source": [
    "Q4. Why LookupError class is used? Explain with an example KeyError and IndexError."
   ]
  },
  {
   "cell_type": "code",
   "execution_count": 7,
   "id": "49e508dc-7e56-4681-a4f1-b9e734f7734e",
   "metadata": {},
   "outputs": [],
   "source": [
    "#ASNWER 4"
   ]
  },
  {
   "cell_type": "markdown",
   "id": "a248f9fd-0555-4e25-9741-7ef55ea438ab",
   "metadata": {},
   "source": [
    "The LookupError class is a base class for exceptions that occur when a key or index is not found in a collection, such as a dictionary or a list. It is a subclass of the Exception class and a superclass of more specific lookup exception classes, such as KeyError and IndexError.\n",
    "\n",
    "Here are two examples of lookup errors that inherit from the LookupError class:\n",
    "\n",
    "1. KeyError: This exception is raised when a dictionary key is not found in the dictionary. Here's an example:"
   ]
  },
  {
   "cell_type": "code",
   "execution_count": 12,
   "id": "93a94678-3393-4d65-93fb-ad7161600de6",
   "metadata": {},
   "outputs": [
    {
     "name": "stdout",
     "output_type": "stream",
     "text": [
      "KeyError: 'd'\n"
     ]
    }
   ],
   "source": [
    "d = {'a': 1, 'b': 2, 'c': 3}\n",
    "\n",
    "try:\n",
    "    value = d['d']\n",
    "except KeyError as e:\n",
    "    print(f\"KeyError: {e}\")\n"
   ]
  },
  {
   "cell_type": "markdown",
   "id": "f6f55cb6-e92f-4782-b855-c6cf37f2ede9",
   "metadata": {},
   "source": [
    "In this example, the key 'd' is not present in the dictionary d, so Python raises a KeyError.\n",
    "\n"
   ]
  },
  {
   "cell_type": "markdown",
   "id": "d3defde4-1d5f-4efd-86b3-d962b529867c",
   "metadata": {},
   "source": [
    "2. IndexError: This exception is raised when a list index is out of range. Here's an example:"
   ]
  },
  {
   "cell_type": "code",
   "execution_count": 13,
   "id": "06bd4359-07f4-4600-aba3-e644a9710da3",
   "metadata": {},
   "outputs": [
    {
     "name": "stdout",
     "output_type": "stream",
     "text": [
      "IndexError: list index out of range\n"
     ]
    }
   ],
   "source": [
    "lst = [1, 2, 3]\n",
    "\n",
    "try:\n",
    "    value = lst[3]\n",
    "except IndexError as e:\n",
    "    print(f\"IndexError: {e}\")\n"
   ]
  },
  {
   "cell_type": "markdown",
   "id": "8976a62f-029c-4e45-8b83-f938eb3a7165",
   "metadata": {},
   "source": [
    "In this example, the index 3 is outside the range of indices that can be used to access the elements of the list lst, so Python raises an IndexError.\n",
    "\n",
    "Both KeyError and IndexError are subclasses of LookupError because they both represent cases where a lookup operation fails due to the key or index not being found in the collection. By catching LookupError instead of the specific lookup error, you can handle both cases in the same way"
   ]
  },
  {
   "cell_type": "markdown",
   "id": "53426f8e-ff9b-4f89-aef1-5606ebdfdf20",
   "metadata": {},
   "source": [
    "Q5. Explain ImportError. What is ModuleNotFoundError?"
   ]
  },
  {
   "cell_type": "code",
   "execution_count": 9,
   "id": "a37bfaa2-c4b3-4dec-9753-79f108e687c5",
   "metadata": {},
   "outputs": [],
   "source": [
    "#ANSWER 5"
   ]
  },
  {
   "cell_type": "markdown",
   "id": "1e424a4f-4e82-4946-a716-6907f2c5be7a",
   "metadata": {},
   "source": [
    "ImportError is a built-in exception in Python that is raised when an import statement fails to import a module. This can happen if the module does not exist, if there is a syntax error or other error in the module's code, or if there is an issue with the module's dependencies.\n",
    "\n",
    "ModuleNotFoundError is a subclass of ImportError that was introduced in Python 3.6 to provide a more specific error message when a module cannot be found. ModuleNotFoundError is raised when Python is unable to locate a module that is specified in an import statement"
   ]
  },
  {
   "cell_type": "code",
   "execution_count": 11,
   "id": "9af555e0-3ea1-43cb-bc1f-ad7fa528f5c5",
   "metadata": {},
   "outputs": [
    {
     "name": "stdout",
     "output_type": "stream",
     "text": [
      "Import error: No module named 'my_module'\n"
     ]
    }
   ],
   "source": [
    "# It's important to note that ImportError and ModuleNotFoundError are both exceptions that can be caught using a try-except block. \n",
    "#Here's an example of how you can catch an ImportError or a ModuleNotFoundError:\n",
    "try:\n",
    "    import my_module\n",
    "except ImportError as e:\n",
    "    print(f\"Import error: {e}\")\n",
    "except ModuleNotFoundError as e:\n",
    "    print(f\"Module not found error: {e}\")"
   ]
  },
  {
   "cell_type": "markdown",
   "id": "282357c2-1ce8-48b9-9cd8-0a22a6516ebc",
   "metadata": {},
   "source": [
    "Q6. List down some best practices for exception handling in python."
   ]
  },
  {
   "cell_type": "code",
   "execution_count": 8,
   "id": "c7647af5-b293-446e-98f5-2eedb7de445b",
   "metadata": {},
   "outputs": [],
   "source": [
    "#ASNWER 6"
   ]
  },
  {
   "cell_type": "markdown",
   "id": "be9ed983-6c6d-4795-b07a-f9a61ee6aa83",
   "metadata": {},
   "source": [
    "Here are some best practices for exception handling in Python:\n",
    "\n",
    "1. Be specific in your exception handling: Catch specific exceptions that you know how to handle and let others propagate up the call stack. This makes it easier to debug and maintain your code.\n",
    "\n",
    "2. Use a try-except block only when necessary: Only use try-except blocks for code that you know can raise exceptions. Don't use try-except blocks to handle all errors or to suppress errors without understanding what is happening.\n",
    "\n",
    "3. Keep the try block small: Only include the code that you know can raise an exception in the try block. This makes it easier to understand which code is responsible for raising the exception.\n",
    "\n",
    "4. Use the else block to execute code when no exception occurs: Code in the else block will only execute if no exception occurs in the try block. This can be useful for setting up or cleaning up resources.\n",
    "\n",
    "5. Use the finally block to ensure cleanup: Code in the finally block will always execute, whether an exception occurs or not. This can be useful for closing files or releasing other resources that need to be cleaned up.\n",
    "\n",
    "6. Use logging to track exceptions: Instead of printing error messages to the console, use Python's logging module to track exceptions. This makes it easier to debug and maintain your code.\n",
    "\n",
    "7. Reraise exceptions when appropriate: If you catch an exception and can't handle it, consider reraising it to allow it to propagate up the call stack. This can help ensure that the exception is handled correctly and that the user is notified of the error.\n",
    "\n",
    "8. Don't ignore exceptions: Never ignore exceptions without understanding what is happening. Ignoring exceptions can lead to hard-to-debug errors and make your code less reliable.\n",
    "\n",
    "By following these best practices, you can write more reliable and maintainable code that handles exceptions correctly."
   ]
  }
 ],
 "metadata": {
  "kernelspec": {
   "display_name": "Python 3 (ipykernel)",
   "language": "python",
   "name": "python3"
  },
  "language_info": {
   "codemirror_mode": {
    "name": "ipython",
    "version": 3
   },
   "file_extension": ".py",
   "mimetype": "text/x-python",
   "name": "python",
   "nbconvert_exporter": "python",
   "pygments_lexer": "ipython3",
   "version": "3.10.8"
  }
 },
 "nbformat": 4,
 "nbformat_minor": 5
}
